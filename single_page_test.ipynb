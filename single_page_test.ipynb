{
 "cells": [
  {
   "cell_type": "markdown",
   "id": "2f309f71",
   "metadata": {},
   "source": [
    "### Necessary Imports"
   ]
  },
  {
   "cell_type": "code",
   "execution_count": 1,
   "id": "9245be47",
   "metadata": {},
   "outputs": [],
   "source": [
    "import pandas as pd\n",
    "from urllib.request import Request, urlopen\n",
    "from bs4 import BeautifulSoup as soup\n",
    "import requests"
   ]
  },
  {
   "cell_type": "markdown",
   "id": "01e18ea9",
   "metadata": {},
   "source": [
    "### Obtaining data from site"
   ]
  },
  {
   "cell_type": "code",
   "execution_count": 2,
   "id": "0bd8ec64",
   "metadata": {},
   "outputs": [],
   "source": [
    "url = 'https://www.realtor.com/realestateandhomes-search/Allentown_PA/type-multi-family-home/price-70000-120000'"
   ]
  },
  {
   "cell_type": "code",
   "execution_count": 3,
   "id": "f73ffd84",
   "metadata": {},
   "outputs": [],
   "source": [
    "req = Request(url, headers={'User-Agent': 'Mozilla/5.0'})"
   ]
  },
  {
   "cell_type": "code",
   "execution_count": 4,
   "id": "a5e3ee17",
   "metadata": {},
   "outputs": [],
   "source": [
    "webpage = urlopen(req).read()"
   ]
  },
  {
   "cell_type": "code",
   "execution_count": 5,
   "id": "ca8ff306",
   "metadata": {},
   "outputs": [],
   "source": [
    "page_soup = soup(webpage, \"html.parser\")"
   ]
  },
  {
   "cell_type": "code",
   "execution_count": 6,
   "id": "aaa8825f",
   "metadata": {},
   "outputs": [],
   "source": [
    "results = page_soup.find_all('li', {'data-testid': 'result-card'})"
   ]
  },
  {
   "cell_type": "code",
   "execution_count": 7,
   "id": "ec41ee4a",
   "metadata": {},
   "outputs": [
    {
     "data": {
      "text/plain": [
       "18"
      ]
     },
     "execution_count": 7,
     "metadata": {},
     "output_type": "execute_result"
    }
   ],
   "source": [
    "len(results)"
   ]
  },
  {
   "cell_type": "code",
   "execution_count": null,
   "id": "e149c9ee",
   "metadata": {},
   "outputs": [],
   "source": []
  }
 ],
 "metadata": {
  "kernelspec": {
   "display_name": "Python 3 (ipykernel)",
   "language": "python",
   "name": "python3"
  },
  "language_info": {
   "codemirror_mode": {
    "name": "ipython",
    "version": 3
   },
   "file_extension": ".py",
   "mimetype": "text/x-python",
   "name": "python",
   "nbconvert_exporter": "python",
   "pygments_lexer": "ipython3",
   "version": "3.9.7"
  }
 },
 "nbformat": 4,
 "nbformat_minor": 5
}
